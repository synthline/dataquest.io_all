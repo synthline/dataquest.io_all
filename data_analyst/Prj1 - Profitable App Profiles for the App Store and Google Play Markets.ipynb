{
 "cells": [
  {
   "cell_type": "markdown",
   "id": "395d1e83",
   "metadata": {},
   "source": [
    "# Prj1 - Profitable App Profiles for the App Store and Google Play Markets\n",
    "\n",
    "## Project Background and goals: \n",
    "\n",
    "As of September 2018, there were approximately 2 million iOS apps available on the App Store, and 2.1 million Android apps on Google Play.\n",
    "Collecting data for over 4 million apps requires a significant amount of time and money, so we'll try to analyze a sample of the data instead. To avoid spending resources on collecting new data ourselves, we should first try to see if we can find any relevant existing data at no cost. Luckily, here are two data sets that seem suitable for our goals:\n",
    "* A dataset containing data about approximately 10,000 Android apps from Google Play; the data was collected in August 2018. You can find the dataset [here](https://www.kaggle.com/datasets/lava18/google-play-store-apps).\n",
    "* A dataset containing data about approximately 7,000 iOS apps from the App Store; the data was collected in July 2017\n",
    "\n",
    "## Instructions for the assignment:\n",
    "\n",
    "**1. Open the two datasets we mentioned above, and save both as lists of lists.**\n",
    "\n",
    "\n",
    "* The App Store dataset is in a CSV file named AppleStore.csv, and the Google Play dataset is in a CSV file named googleplaystore.csv.\n",
    "\n",
    "* You can open both CSV files directly in the Jupyter Notebook interface you see on the right of the screen.\n",
    "\n",
    "**2. Explore both datasets using the explore_data() function.**\n",
    "\n",
    "* Print the first few rows of each dataset.\n",
    "* Find the number of rows and columns of each dataset (recall that the function assumes the argument for the dataset parameter doesn't have a header row).\n",
    "\n",
    "**3.  Print the column names, and try to identify the columns that could help us with our analysis. Use the documentation for the datasets if you're having trouble understanding what a column describes. Add a link to the documentation for readers if you think the column names aren't descriptive enough.**\n",
    "\n",
    "Data Cleaning:\n",
    "\n",
    "* remove rows with errors\n",
    "* remove duplicates\n",
    "* Remove non-English apps like 爱奇艺PPS -《欢乐颂2》电视剧热播.\n",
    "* Remove apps that aren't free.\n"
   ]
  },
  {
   "cell_type": "code",
   "execution_count": 5,
   "id": "1d01e409",
   "metadata": {},
   "outputs": [],
   "source": [
    "from csv import reader\n",
    "\n",
    "# Google\n",
    "opened_file = open('googleplaystore.csv')\n",
    "read_file = reader(opened_file)\n",
    "android = list(read_file)\n",
    "g_data_header = android[0]\n",
    "g_data = android[1:]\n",
    "\n",
    "# Apple\n",
    "opened_file = open('AppleStore.csv')\n",
    "read_file = reader(opened_file)\n",
    "ios = list(read_file)\n",
    "a_data_header = ios[0]\n",
    "a_data = ios[1:]"
   ]
  },
  {
   "cell_type": "code",
   "execution_count": 6,
   "id": "bff4c328",
   "metadata": {},
   "outputs": [
    {
     "name": "stdout",
     "output_type": "stream",
     "text": [
      "['id', 'track_name', 'size_bytes', 'currency', 'price', 'rating_count_tot', 'rating_count_ver', 'user_rating', 'user_rating_ver', 'ver', 'cont_rating', 'prime_genre', 'sup_devices.num', 'ipadSc_urls.num', 'lang.num', 'vpp_lic']\n",
      "\n",
      "\n",
      "['284882215', 'Facebook', '389879808', 'USD', '0.0', '2974676', '212', '3.5', '3.5', '95.0', '4+', 'Social Networking', '37', '1', '29', '1']\n",
      "\n",
      "\n",
      "['389801252', 'Instagram', '113954816', 'USD', '0.0', '2161558', '1289', '4.5', '4.0', '10.23', '12+', 'Photo & Video', '37', '0', '29', '1']\n",
      "\n",
      "\n",
      "['529479190', 'Clash of Clans', '116476928', 'USD', '0.0', '2130805', '579', '4.5', '4.5', '9.24.12', '9+', 'Games', '38', '5', '18', '1']\n",
      "\n",
      "\n",
      "Number of rows: 7197\n",
      "Number of columns: 16\n"
     ]
    }
   ],
   "source": [
    "def explore_data(dataset, start, end, rows_and_columns=False):\n",
    "    dataset_slice = dataset[start:end]    \n",
    "    for row in dataset_slice:\n",
    "        print(row)\n",
    "        print('\\n') # adds a new (empty) line after each row\n",
    "\n",
    "    if rows_and_columns:\n",
    "        print('Number of rows:', len(dataset))\n",
    "        print('Number of columns:', len(dataset[0]))\n",
    "\n",
    "# Explore apple_ds\n",
    "print(a_data_header)\n",
    "print('\\n')\n",
    "explore_data(a_data, 0, 3, True)"
   ]
  },
  {
   "cell_type": "code",
   "execution_count": 7,
   "id": "8cbe8ba9",
   "metadata": {},
   "outputs": [
    {
     "name": "stdout",
     "output_type": "stream",
     "text": [
      "['App', 'Category', 'Rating', 'Reviews', 'Size', 'Installs', 'Type', 'Price', 'Content Rating', 'Genres', 'Last Updated', 'Current Ver', 'Android Ver']\n",
      "\n",
      "\n",
      "['Photo Editor & Candy Camera & Grid & ScrapBook', 'ART_AND_DESIGN', '4.1', '159', '19M', '10,000+', 'Free', '0', 'Everyone', 'Art & Design', 'January 7, 2018', '1.0.0', '4.0.3 and up']\n",
      "\n",
      "\n",
      "['Coloring book moana', 'ART_AND_DESIGN', '3.9', '967', '14M', '500,000+', 'Free', '0', 'Everyone', 'Art & Design;Pretend Play', 'January 15, 2018', '2.0.0', '4.0.3 and up']\n",
      "\n",
      "\n",
      "['U Launcher Lite – FREE Live Cool Themes, Hide Apps', 'ART_AND_DESIGN', '4.7', '87510', '8.7M', '5,000,000+', 'Free', '0', 'Everyone', 'Art & Design', 'August 1, 2018', '1.2.4', '4.0.3 and up']\n",
      "\n",
      "\n",
      "Number of rows: 10841\n",
      "Number of columns: 13\n"
     ]
    }
   ],
   "source": [
    "# Explore google_ds\n",
    "print(g_data_header)\n",
    "print('\\n')\n",
    "explore_data(g_data, 0, 3, True)"
   ]
  },
  {
   "cell_type": "code",
   "execution_count": 14,
   "id": "bf2ad510",
   "metadata": {},
   "outputs": [
    {
     "name": "stdout",
     "output_type": "stream",
     "text": [
      "['App', 'Category', 'Rating', 'Reviews', 'Size', 'Installs', 'Type', 'Price', 'Content Rating', 'Genres', 'Last Updated', 'Current Ver', 'Android Ver']\n",
      "\n",
      "\n",
      "['Life Made WI-Fi Touchscreen Photo Frame', '1.9', '19', '3.0M', '1,000+', 'Free', '0', 'Everyone', '', 'February 11, 2018', '1.0.19', '4.0 and up']\n",
      "\n",
      "\n",
      "Number of rows: 10841\n",
      "Number of columns: 13\n"
     ]
    }
   ],
   "source": [
    "# Data Cleaning (the one we need is #10473):\n",
    "#double-check to see if it is indeed an incorrect row according to the forum discussion.\n",
    "\n",
    "print(g_data_header)\n",
    "print('\\n')\n",
    "explore_data(g_data, 10472, 10473, True)\n"
   ]
  },
  {
   "cell_type": "code",
   "execution_count": 15,
   "id": "57e773f5",
   "metadata": {},
   "outputs": [],
   "source": [
    "# Delete row\n",
    "del g_data[10473]"
   ]
  },
  {
   "cell_type": "code",
   "execution_count": 26,
   "id": "9ef03df9",
   "metadata": {},
   "outputs": [],
   "source": [
    "# Check and count for unique && duplicate apps in the lists:\n",
    "\n",
    "#function:\n",
    "def duplicate_check(ls):\n",
    "    duplicate_apps = []\n",
    "    unique_apps = []\n",
    "    for app in ls:\n",
    "        name = app[0]\n",
    "        if name in unique_apps:\n",
    "            duplicate_apps.append(name)\n",
    "        else:\n",
    "            unique_apps.append(name)\n",
    "            \n",
    "    return len(duplicate_apps), len(unique_apps)"
   ]
  },
  {
   "cell_type": "code",
   "execution_count": 34,
   "id": "fcf63d29",
   "metadata": {},
   "outputs": [
    {
     "name": "stdout",
     "output_type": "stream",
     "text": [
      "The number of duplicates, respective unique apps in the Apple list are: (0, 7197)\n",
      "The number of duplicates, respective unique apps in the Goolge list are: (1180, 9660)\n"
     ]
    }
   ],
   "source": [
    "# Check\n",
    "print('The number of duplicates, respective unique apps in the Apple list are:', duplicate_check(a_data))\n",
    "\n",
    "print('The number of duplicates, respective unique apps in the Goolge list are:', duplicate_check(g_data))"
   ]
  },
  {
   "cell_type": "code",
   "execution_count": null,
   "id": "0eff3b8d",
   "metadata": {},
   "outputs": [],
   "source": []
  },
  {
   "cell_type": "code",
   "execution_count": null,
   "id": "bf076afa",
   "metadata": {},
   "outputs": [],
   "source": []
  }
 ],
 "metadata": {
  "kernelspec": {
   "display_name": "Python 3 (ipykernel)",
   "language": "python",
   "name": "python3"
  },
  "language_info": {
   "codemirror_mode": {
    "name": "ipython",
    "version": 3
   },
   "file_extension": ".py",
   "mimetype": "text/x-python",
   "name": "python",
   "nbconvert_exporter": "python",
   "pygments_lexer": "ipython3",
   "version": "3.9.12"
  }
 },
 "nbformat": 4,
 "nbformat_minor": 5
}
