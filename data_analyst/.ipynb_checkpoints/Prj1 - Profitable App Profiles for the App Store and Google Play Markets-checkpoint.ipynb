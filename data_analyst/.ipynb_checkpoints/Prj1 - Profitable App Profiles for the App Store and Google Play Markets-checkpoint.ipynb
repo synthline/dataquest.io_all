{
 "cells": [
  {
   "cell_type": "markdown",
   "id": "395d1e83",
   "metadata": {},
   "source": [
    "# Prj1 - Profitable App Profiles for the App Store and Google Play Markets\n",
    "\n",
    "## Project Background and goals: \n",
    "\n",
    "As of September 2018, there were approximately 2 million iOS apps available on the App Store, and 2.1 million Android apps on Google Play.\n",
    "Collecting data for over 4 million apps requires a significant amount of time and money, so we'll try to analyze a sample of the data instead. To avoid spending resources on collecting new data ourselves, we should first try to see if we can find any relevant existing data at no cost. Luckily, here are two data sets that seem suitable for our goals:\n",
    "* A dataset containing data about approximately 10,000 Android apps from Google Play; the data was collected in August 2018.\n",
    "* A dataset containing data about approximately 7,000 iOS apps from the App Store; the data was collected in July 2017\n",
    "\n",
    "## Instructions for the assignment:\n",
    "\n",
    "**1. Open the two datasets we mentioned above, and save both as lists of lists.**\n",
    "\n",
    "\n",
    "* The App Store dataset is in a CSV file named AppleStore.csv, and the Google Play dataset is in a CSV file named googleplaystore.csv.\n",
    "\n",
    "* You can open both CSV files directly in the Jupyter Notebook interface you see on the right of the screen.\n",
    "\n",
    "**2. Explore both datasets using the explore_data() function.**\n",
    "\n",
    "* Print the first few rows of each dataset.\n",
    "* Find the number of rows and columns of each dataset (recall that the function assumes the argument for the dataset parameter doesn't have a header row).\n",
    "\n",
    "**3.  Print the column names, and try to identify the columns that could help us with our analysis. Use the documentation for the datasets if you're having trouble understanding what a column describes. Add a link to the documentation for readers if you think the column names aren't descriptive enough.**"
   ]
  },
  {
   "cell_type": "code",
   "execution_count": 9,
   "id": "1d01e409",
   "metadata": {},
   "outputs": [],
   "source": [
    "a_dataset = 'AppleStore.csv'\n",
    "g_dataset = 'googleplaystore.csv'"
   ]
  },
  {
   "cell_type": "code",
   "execution_count": 5,
   "id": "bff4c328",
   "metadata": {},
   "outputs": [],
   "source": [
    "# Apple Store:\n",
    "def explore_data(a_dataset, start, end, rows_and_columns=False):\n",
    "    dataset_slice = dataset[start:end]    \n",
    "    for row in dataset_slice:\n",
    "        print(row)\n",
    "        print('\\n') # adds a new (empty) line after each row\n",
    "\n",
    "    if rows_and_columns:\n",
    "        print('Number of rows:', len(dataset))\n",
    "        print('Number of columns:', len(dataset[0]))"
   ]
  },
  {
   "cell_type": "code",
   "execution_count": 6,
   "id": "8cbe8ba9",
   "metadata": {},
   "outputs": [],
   "source": [
    "# Google Dataset: \n",
    "def explore_data(g_dataset, start, end, rows_and_columns=False):\n",
    "    dataset_slice = dataset[start:end]    \n",
    "    for row in dataset_slice:\n",
    "        print(row)\n",
    "        print('\\n') # adds a new (empty) line after each row\n",
    "\n",
    "    if rows_and_columns:\n",
    "        print('Number of rows:', len(dataset))\n",
    "        print('Number of columns:', len(dataset[0]))"
   ]
  },
  {
   "cell_type": "code",
   "execution_count": null,
   "id": "bf2ad510",
   "metadata": {},
   "outputs": [],
   "source": []
  }
 ],
 "metadata": {
  "kernelspec": {
   "display_name": "Python 3 (ipykernel)",
   "language": "python",
   "name": "python3"
  },
  "language_info": {
   "codemirror_mode": {
    "name": "ipython",
    "version": 3
   },
   "file_extension": ".py",
   "mimetype": "text/x-python",
   "name": "python",
   "nbconvert_exporter": "python",
   "pygments_lexer": "ipython3",
   "version": "3.9.12"
  }
 },
 "nbformat": 4,
 "nbformat_minor": 5
}
